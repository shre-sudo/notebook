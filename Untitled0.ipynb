{
  "nbformat": 4,
  "nbformat_minor": 0,
  "metadata": {
    "colab": {
      "name": "Untitled0.ipynb",
      "provenance": [],
      "collapsed_sections": []
    },
    "kernelspec": {
      "name": "python3",
      "display_name": "Python 3"
    },
    "accelerator": "GPU"
  },
  "cells": [
    {
      "cell_type": "code",
      "metadata": {
        "id": "rl0kgzFT0NdS",
        "colab_type": "code",
        "colab": {}
      },
      "source": [
        " !curl https://www.teleconsole.com/get.sh | sh"
      ],
      "execution_count": null,
      "outputs": []
    },
    {
      "cell_type": "code",
      "metadata": {
        "id": "W_txuYe_5dAv",
        "colab_type": "code",
        "colab": {}
      },
      "source": [
        "import subprocess as sp\n",
        "p = sp.Popen(\"teleconsole\",shell=True,stdin=sp.PIPE,stdout=sp.PIPE,stderr=sp.PIPE)\n",
        "for i in range(6):\n",
        "   print(p.stdout.readline().decode()) "
      ],
      "execution_count": null,
      "outputs": []
    }
  ]
}